{
  "nbformat": 4,
  "nbformat_minor": 0,
  "metadata": {
    "colab": {
      "provenance": []
    },
    "kernelspec": {
      "name": "python3",
      "display_name": "Python 3"
    },
    "language_info": {
      "name": "python"
    },
    "accelerator": "GPU",
    "gpuClass": "standard"
  },
  "cells": [
    {
      "cell_type": "code",
      "source": [
        "import cv2 as cv2\n",
        "from PIL import Image\n",
        "import numpy as np\n",
        "import os\n",
        "import shutil\n",
        "from google.colab.patches import cv2_imshow\n",
        "import tensorflow as tf\n"
      ],
      "metadata": {
        "id": "KRrjLQW-OsuA"
      },
      "execution_count": null,
      "outputs": []
    },
    {
      "cell_type": "code",
      "execution_count": null,
      "metadata": {
        "id": "HDt7HtNBMfAr"
      },
      "outputs": [],
      "source": [
        "import tensorflow as tf\n",
        "from tensorflow.compat.v1 import ConfigProto\n",
        "from tensorflow.compat.v1 import InteractiveSession\n",
        "config = ConfigProto()\n",
        "config.gpu_options.per_process_gpu_memory_fraction = 0.5\n",
        "config.gpu_options.allow_growth = True\n",
        "session = InteractiveSession(config=config)"
      ]
    },
    {
      "cell_type": "code",
      "source": [
        "import tensorflow as tf\n",
        "from tensorflow.keras.preprocessing.image import ImageDataGenerator"
      ],
      "metadata": {
        "id": "IZvz9_nLMsBo"
      },
      "execution_count": null,
      "outputs": []
    },
    {
      "cell_type": "code",
      "source": [
        "train_datagen = ImageDataGenerator(rescale = 1./255,\n",
        "                                   shear_range = 0.2,\n",
        "                                   zoom_range = 0.2,\n",
        "                                   horizontal_flip = True)"
      ],
      "metadata": {
        "id": "LBazR8M1Mt2P"
      },
      "execution_count": null,
      "outputs": []
    },
    {
      "cell_type": "markdown",
      "source": [
        "Start"
      ],
      "metadata": {
        "id": "9AZvHtC1sU5E"
      }
    },
    {
      "cell_type": "code",
      "source": [
        "from google.colab import drive\n",
        "drive.mount('/content/drive')"
      ],
      "metadata": {
        "colab": {
          "base_uri": "https://localhost:8080/"
        },
        "id": "2HfbhE-rMzA_",
        "outputId": "06f21d6b-e159-415f-e82c-eca2fe18a0a6"
      },
      "execution_count": null,
      "outputs": [
        {
          "output_type": "stream",
          "name": "stdout",
          "text": [
            "Mounted at /content/drive\n"
          ]
        }
      ]
    },
    {
      "cell_type": "code",
      "source": [
        "import zipfile\n",
        "with zipfile.ZipFile('/content/drive/MyDrive/dataset/final.zip', 'r') as zip_ref:\n",
        "    zip_ref.extractall('/tmp')"
      ],
      "metadata": {
        "id": "LvNGvTdANcMQ"
      },
      "execution_count": null,
      "outputs": []
    },
    {
      "cell_type": "code",
      "source": [
        "import zipfile\n",
        "with zipfile.ZipFile('/content/drive/MyDrive/dataset/classification_words.zip', 'r') as zip_ref:\n",
        "    zip_ref.extractall('/tmp/words')"
      ],
      "metadata": {
        "id": "tkBYcF14Yo37"
      },
      "execution_count": null,
      "outputs": []
    },
    {
      "cell_type": "code",
      "source": [
        "# Copying top 25000 image from final in temp\n",
        "\n",
        "# For Words\n",
        "folder_path = '/tmp/words/tmp/words'\n",
        "!mkdir /tmp/words-25K-Images\n",
        "\n",
        "# For Formulas\n",
        "# folder_path = '/tmp/final'\n",
        "# !mkdir /tmp/formula-25K-Images\n",
        "\n",
        "file_list = os.listdir(folder_path)\n",
        "count = 0;\n",
        "for file_name in file_list:\n",
        "  if count == 25000:\n",
        "    break\n",
        "  # For Formulas\n",
        "  # source_file_path = f'/tmp/final/{file_name}'\n",
        "  # destination_folder_path = '/tmp/formula-25K-Images'\n",
        "  # For Words\n",
        "  source_file_path = f'/tmp/words/tmp/words/{file_name}'\n",
        "  destination_folder_path = '/tmp/words-25K-Images'\n",
        "  file_name = os.path.basename(source_file_path)\n",
        "  destination_file_path = os.path.join(destination_folder_path, file_name)\n",
        "  shutil.copyfile(source_file_path, destination_file_path)\n",
        "  count = count + 1"
      ],
      "metadata": {
        "id": "d7eEjkMDRIY4"
      },
      "execution_count": null,
      "outputs": []
    },
    {
      "cell_type": "code",
      "source": [
        "# For displaying the images in the formula-25K-Images\n",
        "# !ls /tmp/formula-25K-Images\n",
        "# For displaying the images in the words-25K-Images\n",
        "# !ls /tmp/words/tmp/words"
      ],
      "metadata": {
        "id": "PFAo6taamRPm"
      },
      "execution_count": null,
      "outputs": []
    },
    {
      "cell_type": "code",
      "source": [
        "# USE THIS TO REMOVE ALL THE FILES FROM THE FORMULA 1OK IMAGES\n",
        "folder_path = '/tmp/train/words'\n",
        "for file_name in os.listdir(folder_path):\n",
        "    file_path = os.path.join(folder_path, file_name)\n",
        "    os.remove(file_path)"
      ],
      "metadata": {
        "id": "eu3ZV0cUUaVQ"
      },
      "execution_count": null,
      "outputs": []
    },
    {
      "cell_type": "code",
      "source": [
        "# import os\n",
        "# For Formula\n",
        "# folder_path = '/tmp/formula-25K-Images'\n",
        "# For Words\n",
        "# folder_path = '/tmp/words-25K-Images'\n",
        "# files = os.listdir(folder_path)\n",
        "# num_files = len(files)\n",
        "# print(f'The folder contains {num_files} files.')"
      ],
      "metadata": {
        "colab": {
          "base_uri": "https://localhost:8080/"
        },
        "id": "7usdEgbCbZQF",
        "outputId": "a38945fc-e080-4719-d4e0-8a33d342cbd8"
      },
      "execution_count": null,
      "outputs": [
        {
          "output_type": "stream",
          "name": "stdout",
          "text": [
            "The folder contains 25000 files.\n"
          ]
        }
      ]
    },
    {
      "cell_type": "markdown",
      "source": [
        "Data Preprocessing Resizing the Image"
      ],
      "metadata": {
        "id": "VZ_QVgKEj7mB"
      }
    },
    {
      "cell_type": "code",
      "source": [
        "def distortion_free_resize(image, img_size):\n",
        "    w, h = img_size\n",
        "    image = tf.image.resize(image, size=(h, w), preserve_aspect_ratio=True)\n",
        "\n",
        "    # Check tha amount of padding needed to be done.\n",
        "    pad_height = h - tf.shape(image)[0]\n",
        "    pad_width = w - tf.shape(image)[1]\n",
        "\n",
        "    # Only necessary if you want to do same amount of padding on both sides.\n",
        "    if pad_height % 2 != 0:\n",
        "        height = pad_height // 2\n",
        "        pad_height_top = height + 1\n",
        "        pad_height_bottom = height\n",
        "    else:\n",
        "        pad_height_top = pad_height_bottom = pad_height // 2\n",
        "\n",
        "    if pad_width % 2 != 0:\n",
        "        width = pad_width // 2\n",
        "        pad_width_left = width + 1\n",
        "        pad_width_right = width\n",
        "    else:\n",
        "        pad_width_left = pad_width_right = pad_width // 2\n",
        "\n",
        "    image = tf.pad(\n",
        "        image,\n",
        "        paddings=[\n",
        "            [pad_height_top, pad_height_bottom],\n",
        "            [pad_width_left, pad_width_right],\n",
        "            [0, 0],\n",
        "        ],\n",
        "    )\n",
        "\n",
        "    image = tf.transpose(image, perm=[1, 0, 2])\n",
        "    image = tf.image.flip_left_right(image)\n",
        "\n",
        "    return image"
      ],
      "metadata": {
        "id": "gLovTXt-j93l"
      },
      "execution_count": null,
      "outputs": []
    },
    {
      "cell_type": "code",
      "source": [
        "# file_path = '/tmp/formula-10K-Images/10072d7334.png'\n",
        "# image = cv2.imread(file_path)\n",
        "# cv2_imshow(image)\n",
        "# resized_image = distortion_free_resize(image,[224,224])"
      ],
      "metadata": {
        "id": "CRVEEBV_OEGh"
      },
      "execution_count": null,
      "outputs": []
    },
    {
      "cell_type": "code",
      "source": [
        "!mkdir /tmp/train"
      ],
      "metadata": {
        "id": "fPv208B5f_nI"
      },
      "execution_count": null,
      "outputs": []
    },
    {
      "cell_type": "code",
      "source": [
        "!mkdir /tmp/test"
      ],
      "metadata": {
        "id": "OqXwwFunCXXp"
      },
      "execution_count": null,
      "outputs": []
    },
    {
      "cell_type": "code",
      "source": [
        "!mkdir /tmp/test/words\n",
        "count = 0\n",
        "for path in os.listdir('/tmp/words-25K-Images'):\n",
        "  if count == 10000:\n",
        "    break\n",
        "  # For Words \n",
        "  source_file_path = f'/tmp/words-25K-Images/{path}'\n",
        "  image = cv2.imread(f'/tmp/words-25K-Images/{path}')\n",
        "  # For Formula\n",
        "  # source_file_path = f'/tmp/formula-25K-Images/{path}'\n",
        "  # image = cv2.imread(f'/tmp/formula-25K-Images/{path}')\n",
        "  image = distortion_free_resize(image,[224,224])\n",
        "  image = image.numpy()\n",
        "  image = cv2.imwrite(f'/tmp/test/words/{path}',image)\n",
        "  print(count)\n",
        "  count = count + 1"
      ],
      "metadata": {
        "id": "hNCYzI1dmttl"
      },
      "execution_count": null,
      "outputs": []
    },
    {
      "cell_type": "code",
      "source": [
        "# import os\n",
        "# For Formula\n",
        "# folder_path = '/tmp/train/formula'\n",
        "# For Words\n",
        "# folder_path = '/tmp/train/words'\n",
        "# files = os.listdir(folder_path)\n",
        "# num_files = len(files)\n",
        "# print(f'The folder contains {num_files} files.')\n",
        "# image = cv2.imread(f'/tmp/train/words/{files[0]}')\n",
        "# cv2_imshow(image)\n",
        "# image.shape"
      ],
      "metadata": {
        "id": "f1W3GB1Wmtkq"
      },
      "execution_count": null,
      "outputs": []
    },
    {
      "cell_type": "code",
      "source": [
        "# import shutil\n",
        "# temp_dir_path = '/tmp/train'\n",
        "# dest_dir_path = '/content/drive/MyDrive'\n",
        "# shutil.copytree(temp_dir_path, dest_dir_path)\n",
        "# print(f'Successfully copied the directory from {temp_dir_path} to {dest_dir_path}.')\n",
        "\n",
        "# import zipfile\n",
        "# file_path = '/tmp/train/'\n",
        "# zip_file_path = '/content/drive/MyDrive/VikramTrain.zip'\n",
        "\n",
        "# with zipfile.ZipFile(zip_file_path, 'w') as zip_file:\n",
        "#     zip_file.write(file_path)\n",
        "# print(f'Successfully zipped {file_path} to {zip_file_path}.')\n"
      ],
      "metadata": {
        "colab": {
          "base_uri": "https://localhost:8080/"
        },
        "id": "sruGh_36k0t4",
        "outputId": "b7cea002-25bf-48f5-b02d-94344fa4315b"
      },
      "execution_count": null,
      "outputs": [
        {
          "output_type": "stream",
          "name": "stdout",
          "text": [
            "Successfully zipped /tmp/train/ to /content/drive/MyDrive/VikramTrain.zip.\n"
          ]
        }
      ]
    },
    {
      "cell_type": "markdown",
      "source": [
        "VGG 16 STARTS FROM HERE"
      ],
      "metadata": {
        "id": "yhOad66RfNzM"
      }
    },
    {
      "cell_type": "code",
      "source": [
        "from keras.layers import Input, Lambda, Dense, Flatten\n",
        "from keras.models import Model\n",
        "from keras.applications.vgg16 import VGG16\n",
        "from keras.applications.vgg16 import preprocess_input\n",
        "from keras.preprocessing import image\n",
        "from keras.preprocessing.image import ImageDataGenerator\n",
        "from keras.models import Sequential\n",
        "import numpy as np\n",
        "from glob import glob\n",
        "import matplotlib.pyplot as plt"
      ],
      "metadata": {
        "id": "VvSjx-vSr3yj"
      },
      "execution_count": null,
      "outputs": []
    },
    {
      "cell_type": "code",
      "source": [
        "IMAGE_SIZE = [224, 224]"
      ],
      "metadata": {
        "id": "ot8P0mMlr-r-"
      },
      "execution_count": null,
      "outputs": []
    },
    {
      "cell_type": "code",
      "source": [
        "train_path = '/tmp/train'\n",
        "valid_path = '/tmp/test'"
      ],
      "metadata": {
        "id": "lflkaqlVsB0A"
      },
      "execution_count": null,
      "outputs": []
    },
    {
      "cell_type": "code",
      "source": [
        "vgg = VGG16(input_shape=IMAGE_SIZE + [3], weights='imagenet', include_top=False)"
      ],
      "metadata": {
        "id": "OrwKBSxysJVO",
        "colab": {
          "base_uri": "https://localhost:8080/"
        },
        "outputId": "0446c266-87f8-46cf-86e3-b6fc6d157e4e"
      },
      "execution_count": null,
      "outputs": [
        {
          "output_type": "stream",
          "name": "stdout",
          "text": [
            "Downloading data from https://storage.googleapis.com/tensorflow/keras-applications/vgg16/vgg16_weights_tf_dim_ordering_tf_kernels_notop.h5\n",
            "58889256/58889256 [==============================] - 4s 0us/step\n"
          ]
        }
      ]
    },
    {
      "cell_type": "code",
      "source": [
        "for layer in vgg.layers:\n",
        "  layer.trainable = False"
      ],
      "metadata": {
        "id": "-o77juflsT_u"
      },
      "execution_count": null,
      "outputs": []
    },
    {
      "cell_type": "code",
      "source": [
        "# useful for getting number of classes\n",
        "folders = glob('/tmp/train/*')\n",
        "print(folders)"
      ],
      "metadata": {
        "id": "enzQK_8xsY98",
        "colab": {
          "base_uri": "https://localhost:8080/"
        },
        "outputId": "8203de35-796a-45a5-ab92-0af552de93a0"
      },
      "execution_count": null,
      "outputs": [
        {
          "output_type": "stream",
          "name": "stdout",
          "text": [
            "['/tmp/train/words', '/tmp/train/formula']\n"
          ]
        }
      ]
    },
    {
      "cell_type": "code",
      "source": [
        "# our layers - you can add more if you want\n",
        "x = Flatten()(vgg.output)\n",
        "# x = Dense(1000, activation='relu')(x)\n",
        "prediction = Dense(len(folders), activation='softmax')(x)"
      ],
      "metadata": {
        "id": "Wky6FU-msk25"
      },
      "execution_count": null,
      "outputs": []
    },
    {
      "cell_type": "code",
      "source": [
        "# create a model object\n",
        "model = Model(inputs=vgg.input, outputs=prediction)"
      ],
      "metadata": {
        "id": "0UUHp5o9_j42"
      },
      "execution_count": null,
      "outputs": []
    },
    {
      "cell_type": "code",
      "source": [
        "# view the structure of the model\n",
        "model.summary()"
      ],
      "metadata": {
        "colab": {
          "base_uri": "https://localhost:8080/"
        },
        "id": "JnEdqv36_twF",
        "outputId": "eefca868-9da5-4d32-8c50-b89b3210579b"
      },
      "execution_count": null,
      "outputs": [
        {
          "output_type": "stream",
          "name": "stdout",
          "text": [
            "Model: \"model\"\n",
            "_________________________________________________________________\n",
            " Layer (type)                Output Shape              Param #   \n",
            "=================================================================\n",
            " input_1 (InputLayer)        [(None, 224, 224, 3)]     0         \n",
            "                                                                 \n",
            " block1_conv1 (Conv2D)       (None, 224, 224, 64)      1792      \n",
            "                                                                 \n",
            " block1_conv2 (Conv2D)       (None, 224, 224, 64)      36928     \n",
            "                                                                 \n",
            " block1_pool (MaxPooling2D)  (None, 112, 112, 64)      0         \n",
            "                                                                 \n",
            " block2_conv1 (Conv2D)       (None, 112, 112, 128)     73856     \n",
            "                                                                 \n",
            " block2_conv2 (Conv2D)       (None, 112, 112, 128)     147584    \n",
            "                                                                 \n",
            " block2_pool (MaxPooling2D)  (None, 56, 56, 128)       0         \n",
            "                                                                 \n",
            " block3_conv1 (Conv2D)       (None, 56, 56, 256)       295168    \n",
            "                                                                 \n",
            " block3_conv2 (Conv2D)       (None, 56, 56, 256)       590080    \n",
            "                                                                 \n",
            " block3_conv3 (Conv2D)       (None, 56, 56, 256)       590080    \n",
            "                                                                 \n",
            " block3_pool (MaxPooling2D)  (None, 28, 28, 256)       0         \n",
            "                                                                 \n",
            " block4_conv1 (Conv2D)       (None, 28, 28, 512)       1180160   \n",
            "                                                                 \n",
            " block4_conv2 (Conv2D)       (None, 28, 28, 512)       2359808   \n",
            "                                                                 \n",
            " block4_conv3 (Conv2D)       (None, 28, 28, 512)       2359808   \n",
            "                                                                 \n",
            " block4_pool (MaxPooling2D)  (None, 14, 14, 512)       0         \n",
            "                                                                 \n",
            " block5_conv1 (Conv2D)       (None, 14, 14, 512)       2359808   \n",
            "                                                                 \n",
            " block5_conv2 (Conv2D)       (None, 14, 14, 512)       2359808   \n",
            "                                                                 \n",
            " block5_conv3 (Conv2D)       (None, 14, 14, 512)       2359808   \n",
            "                                                                 \n",
            " block5_pool (MaxPooling2D)  (None, 7, 7, 512)         0         \n",
            "                                                                 \n",
            " flatten (Flatten)           (None, 25088)             0         \n",
            "                                                                 \n",
            " dense (Dense)               (None, 2)                 50178     \n",
            "                                                                 \n",
            "=================================================================\n",
            "Total params: 14,764,866\n",
            "Trainable params: 50,178\n",
            "Non-trainable params: 14,714,688\n",
            "_________________________________________________________________\n"
          ]
        }
      ]
    },
    {
      "cell_type": "code",
      "source": [
        "# tell the model what cost and optimization method to use\n",
        "model.compile(\n",
        "  loss='categorical_crossentropy',\n",
        "  optimizer='adam',\n",
        "  metrics=['accuracy']\n",
        ")"
      ],
      "metadata": {
        "id": "NvURgDS7_7_y"
      },
      "execution_count": null,
      "outputs": []
    },
    {
      "cell_type": "code",
      "source": [
        "from keras.preprocessing.image import ImageDataGenerator\n",
        "\n",
        "train_datagen = ImageDataGenerator(rescale = 1./255,\n",
        "                                   shear_range = 0.2,\n",
        "                                   zoom_range = 0.2,\n",
        "                                   horizontal_flip = True)\n",
        "\n",
        "test_datagen = ImageDataGenerator(rescale = 1./255)\n",
        "\n",
        "training_set = train_datagen.flow_from_directory('/tmp/train',\n",
        "                                                 target_size = (224, 224),\n",
        "                                                 batch_size = 32,\n",
        "                                                 class_mode = 'categorical')"
      ],
      "metadata": {
        "colab": {
          "base_uri": "https://localhost:8080/"
        },
        "id": "7f7lvBWxAykr",
        "outputId": "713916a9-d257-476e-8ff0-7c8a951872fd"
      },
      "execution_count": null,
      "outputs": [
        {
          "output_type": "stream",
          "name": "stdout",
          "text": [
            "Found 50000 images belonging to 2 classes.\n"
          ]
        }
      ]
    },
    {
      "cell_type": "code",
      "source": [
        "test_set = test_datagen.flow_from_directory('/tmp/test',\n",
        "                                            target_size = (224, 224),\n",
        "                                            batch_size = 32,\n",
        "                                            class_mode = 'categorical')"
      ],
      "metadata": {
        "colab": {
          "base_uri": "https://localhost:8080/"
        },
        "id": "lGAK-LOFEuEP",
        "outputId": "69728c10-a049-449e-9869-7f0660aec6d0"
      },
      "execution_count": null,
      "outputs": [
        {
          "output_type": "stream",
          "name": "stdout",
          "text": [
            "Found 20000 images belonging to 2 classes.\n"
          ]
        }
      ]
    },
    {
      "cell_type": "code",
      "source": [
        "r = model.fit_generator(\n",
        "  training_set,\n",
        "  validation_data=test_set,\n",
        "  epochs=5,\n",
        "  steps_per_epoch=len(training_set),\n",
        "  validation_steps=len(test_set)\n",
        ")"
      ],
      "metadata": {
        "colab": {
          "base_uri": "https://localhost:8080/"
        },
        "id": "FO_Ed-FZBS6n",
        "outputId": "28729fbe-e004-4354-93c8-d449e31c7671"
      },
      "execution_count": null,
      "outputs": [
        {
          "output_type": "stream",
          "name": "stderr",
          "text": [
            "<ipython-input-42-89113a27acbd>:1: UserWarning: `Model.fit_generator` is deprecated and will be removed in a future version. Please use `Model.fit`, which supports generators.\n",
            "  r = model.fit_generator(\n"
          ]
        },
        {
          "output_type": "stream",
          "name": "stdout",
          "text": [
            "Epoch 1/5\n",
            "1563/1563 [==============================] - 700s 440ms/step - loss: 0.0066 - accuracy: 0.9981 - val_loss: 0.0087 - val_accuracy: 0.9969\n",
            "Epoch 2/5\n",
            "1563/1563 [==============================] - 694s 444ms/step - loss: 0.0010 - accuracy: 0.9996 - val_loss: 7.9170e-04 - val_accuracy: 0.9996\n",
            "Epoch 3/5\n",
            "1563/1563 [==============================] - 680s 435ms/step - loss: 0.0037 - accuracy: 0.9992 - val_loss: 2.1680e-04 - val_accuracy: 0.9999\n",
            "Epoch 4/5\n",
            "1563/1563 [==============================] - 679s 434ms/step - loss: 0.0031 - accuracy: 0.9993 - val_loss: 0.0204 - val_accuracy: 0.9965\n",
            "Epoch 5/5\n",
            "1563/1563 [==============================] - 677s 433ms/step - loss: 0.0031 - accuracy: 0.9995 - val_loss: 2.2448e-05 - val_accuracy: 1.0000\n"
          ]
        }
      ]
    },
    {
      "cell_type": "code",
      "source": [],
      "metadata": {
        "colab": {
          "base_uri": "https://localhost:8080/"
        },
        "id": "8-rODUuJZue5",
        "outputId": "2d1d7717-a1f9-459b-d339-22a7d000056d"
      },
      "execution_count": null,
      "outputs": [
        {
          "output_type": "execute_result",
          "data": {
            "text/plain": [
              "<keras.callbacks.History at 0x7fd567004ac0>"
            ]
          },
          "metadata": {},
          "execution_count": 48
        }
      ]
    },
    {
      "cell_type": "code",
      "source": [
        "# loss\n",
        "plt.plot(r.history['loss'], label='train loss')\n",
        "plt.plot(r.history['val_loss'], label='val loss')\n",
        "plt.legend()\n",
        "plt.show()\n",
        "plt.savefig('LossVal_loss')\n",
        "\n",
        "# accuracies\n",
        "# plt.plot(r.history['acc'], label='train acc')\n",
        "# plt.plot(r.history['val_acc'], label='val acc')\n",
        "# plt.legend()\n",
        "# plt.show()\n",
        "# plt.savefig('AccVal_acc')\n",
        "\n",
        "import tensorflow as tf\n",
        "\n",
        "from keras.models import load_model\n",
        "\n",
        "model.save('facefeatures_new_model.h5')"
      ],
      "metadata": {
        "colab": {
          "base_uri": "https://localhost:8080/",
          "height": 283
        },
        "id": "1xEVHQcZSL0d",
        "outputId": "2ee82000-85eb-4412-8319-462a05120241"
      },
      "execution_count": null,
      "outputs": [
        {
          "output_type": "display_data",
          "data": {
            "text/plain": [
              "<Figure size 432x288 with 1 Axes>"
            ],
            "image/png": "[encoded data removed]"
          },
          "metadata": {
            "needs_background": "light"
          }
        },
        {
          "output_type": "display_data",
          "data": {
            "text/plain": [
              "<Figure size 432x288 with 0 Axes>"
            ]
          },
          "metadata": {}
        }
      ]
    },
    {
      "cell_type": "markdown",
      "source": [
        "Testing of model"
      ],
      "metadata": {
        "id": "7X9gPIiYrMco"
      }
    },
    {
      "cell_type": "code",
      "source": [
        "from tensorflow.keras.models import load_model\n",
        "model = load_model('/content/drive/MyDrive/dataset/vikram/Classification.h5')"
      ],
      "metadata": {
        "id": "gtfbwkStrO1J"
      },
      "execution_count": null,
      "outputs": []
    },
    {
      "cell_type": "code",
      "source": [
        "import cv2\n",
        "from google.colab.patches import cv2_imshow\n",
        "import numpy as np\n",
        "\n",
        "def predict(image):\n",
        "  image = distortion_free_resize(image,(224,224)).numpy()\n",
        "  image = np.reshape(image,(1,224,224,3))\n",
        "  preds = model.predict(image)\n",
        "  l = np.argmax(np.array(preds[0]))\n",
        "  if l==0:\n",
        "    return \"Formula\"\n",
        "  else:\n",
        "    return \"Word\""
      ],
      "metadata": {
        "id": "iTTl8ADAseoe"
      },
      "execution_count": null,
      "outputs": []
    },
    {
      "cell_type": "code",
      "source": [
        "import os \n",
        "for path in os.listdir('/content/files'):\n",
        "  file_path = os.path.join('/content/files',path)\n",
        "  image = cv2.imread(file_path)\n",
        "  prediction = predict(image)\n",
        "  cv2_imshow(image)\n",
        "  print(prediction)"
      ],
      "metadata": {
        "id": "zxah0es0zzT-"
      },
      "execution_count": null,
      "outputs": []
    }
  ]
}